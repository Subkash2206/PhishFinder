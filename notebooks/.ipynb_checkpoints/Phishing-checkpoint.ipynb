{
 "cells": [
  {
   "cell_type": "code",
   "execution_count": 50,
   "id": "4e6f8d74-fa5b-4610-8f4c-2f7b044e4b83",
   "metadata": {},
   "outputs": [
    {
     "data": {
      "text/html": [
       "<div>\n",
       "<style scoped>\n",
       "    .dataframe tbody tr th:only-of-type {\n",
       "        vertical-align: middle;\n",
       "    }\n",
       "\n",
       "    .dataframe tbody tr th {\n",
       "        vertical-align: top;\n",
       "    }\n",
       "\n",
       "    .dataframe thead th {\n",
       "        text-align: right;\n",
       "    }\n",
       "</style>\n",
       "<table border=\"1\" class=\"dataframe\">\n",
       "  <thead>\n",
       "    <tr style=\"text-align: right;\">\n",
       "      <th></th>\n",
       "      <th>URL</th>\n",
       "      <th>Label</th>\n",
       "    </tr>\n",
       "  </thead>\n",
       "  <tbody>\n",
       "    <tr>\n",
       "      <th>0</th>\n",
       "      <td>nobell.it/70ffb52d079109dca5664cce6f317373782/...</td>\n",
       "      <td>bad</td>\n",
       "    </tr>\n",
       "    <tr>\n",
       "      <th>1</th>\n",
       "      <td>www.dghjdgf.com/paypal.co.uk/cycgi-bin/webscrc...</td>\n",
       "      <td>bad</td>\n",
       "    </tr>\n",
       "    <tr>\n",
       "      <th>2</th>\n",
       "      <td>serviciosbys.com/paypal.cgi.bin.get-into.herf....</td>\n",
       "      <td>bad</td>\n",
       "    </tr>\n",
       "    <tr>\n",
       "      <th>3</th>\n",
       "      <td>mail.printakid.com/www.online.americanexpress....</td>\n",
       "      <td>bad</td>\n",
       "    </tr>\n",
       "    <tr>\n",
       "      <th>4</th>\n",
       "      <td>thewhiskeydregs.com/wp-content/themes/widescre...</td>\n",
       "      <td>bad</td>\n",
       "    </tr>\n",
       "  </tbody>\n",
       "</table>\n",
       "</div>"
      ],
      "text/plain": [
       "                                                 URL Label\n",
       "0  nobell.it/70ffb52d079109dca5664cce6f317373782/...   bad\n",
       "1  www.dghjdgf.com/paypal.co.uk/cycgi-bin/webscrc...   bad\n",
       "2  serviciosbys.com/paypal.cgi.bin.get-into.herf....   bad\n",
       "3  mail.printakid.com/www.online.americanexpress....   bad\n",
       "4  thewhiskeydregs.com/wp-content/themes/widescre...   bad"
      ]
     },
     "execution_count": 50,
     "metadata": {},
     "output_type": "execute_result"
    }
   ],
   "source": [
    "#reading the dataset\n",
    "import pandas as pd\n",
    "df= pd.read_csv('C:/Users/subka/Documents/AnacondaProjects/Phishing/dataset/phishing_site_urls.csv')\n",
    "df.head() "
   ]
  },
  {
   "cell_type": "code",
   "execution_count": 18,
   "id": "f23e78c4-1ff3-4595-b472-f59be1f7b5cb",
   "metadata": {},
   "outputs": [
    {
     "data": {
      "text/plain": [
       "(549346, 2)"
      ]
     },
     "execution_count": 18,
     "metadata": {},
     "output_type": "execute_result"
    }
   ],
   "source": [
    "#shape\n",
    "df.shape"
   ]
  },
  {
   "cell_type": "code",
   "execution_count": 52,
   "id": "44d180bf-bec4-4ab3-9ce5-b6e1636eab3e",
   "metadata": {},
   "outputs": [],
   "source": [
    "#data preparation\n",
    "from urllib.parse import urlparse\n",
    "import tldextract"
   ]
  },
  {
   "cell_type": "code",
   "execution_count": 53,
   "id": "d86154a0-b9bc-4796-969e-5b9b6c76b763",
   "metadata": {},
   "outputs": [
    {
     "data": {
      "text/html": [
       "<div>\n",
       "<style scoped>\n",
       "    .dataframe tbody tr th:only-of-type {\n",
       "        vertical-align: middle;\n",
       "    }\n",
       "\n",
       "    .dataframe tbody tr th {\n",
       "        vertical-align: top;\n",
       "    }\n",
       "\n",
       "    .dataframe thead th {\n",
       "        text-align: right;\n",
       "    }\n",
       "</style>\n",
       "<table border=\"1\" class=\"dataframe\">\n",
       "  <thead>\n",
       "    <tr style=\"text-align: right;\">\n",
       "      <th></th>\n",
       "      <th>URL</th>\n",
       "      <th>Label</th>\n",
       "    </tr>\n",
       "  </thead>\n",
       "  <tbody>\n",
       "    <tr>\n",
       "      <th>0</th>\n",
       "      <td>nobell.it/70ffb52d079109dca5664cce6f317373782/...</td>\n",
       "      <td>1</td>\n",
       "    </tr>\n",
       "    <tr>\n",
       "      <th>1</th>\n",
       "      <td>www.dghjdgf.com/paypal.co.uk/cycgi-bin/webscrc...</td>\n",
       "      <td>1</td>\n",
       "    </tr>\n",
       "    <tr>\n",
       "      <th>2</th>\n",
       "      <td>serviciosbys.com/paypal.cgi.bin.get-into.herf....</td>\n",
       "      <td>1</td>\n",
       "    </tr>\n",
       "    <tr>\n",
       "      <th>3</th>\n",
       "      <td>mail.printakid.com/www.online.americanexpress....</td>\n",
       "      <td>1</td>\n",
       "    </tr>\n",
       "    <tr>\n",
       "      <th>4</th>\n",
       "      <td>thewhiskeydregs.com/wp-content/themes/widescre...</td>\n",
       "      <td>1</td>\n",
       "    </tr>\n",
       "  </tbody>\n",
       "</table>\n",
       "</div>"
      ],
      "text/plain": [
       "                                                 URL  Label\n",
       "0  nobell.it/70ffb52d079109dca5664cce6f317373782/...      1\n",
       "1  www.dghjdgf.com/paypal.co.uk/cycgi-bin/webscrc...      1\n",
       "2  serviciosbys.com/paypal.cgi.bin.get-into.herf....      1\n",
       "3  mail.printakid.com/www.online.americanexpress....      1\n",
       "4  thewhiskeydregs.com/wp-content/themes/widescre...      1"
      ]
     },
     "execution_count": 53,
     "metadata": {},
     "output_type": "execute_result"
    }
   ],
   "source": [
    "#map the labels good/bad to 0/1\n",
    "df['Label'] = df['Label'].map({'good': 0, 'bad': 1})\n",
    "df.head()"
   ]
  },
  {
   "cell_type": "code",
   "execution_count": 61,
   "id": "fbc6a873-7471-4072-a462-7e6da9b1a632",
   "metadata": {},
   "outputs": [],
   "source": [
    "#feature engineering\n",
    "\n",
    "#1\n",
    "df['url_length'] = df['URL'].apply(len)\n",
    "\n",
    "#2\n",
    "df['hostname_length'] = df['URL'].apply(lambda x: len(urlparse(x).netloc))\n",
    "\n",
    "#3\n",
    "df['path_length'] = df['URL'].apply(lambda x: len(urlparse(x).path))\n",
    "\n",
    "#4\n",
    "def get_fd_length(url):\n",
    "    path = urlparse(url).path\n",
    "    try:\n",
    "        return len(path.split('/')[1])\n",
    "    except IndexError:\n",
    "        return 0\n",
    "df['fd_length'] = df['URL'].apply(get_fd_length)\n",
    "\n",
    "\n",
    "#5\n",
    "df['tld_length'] = df['URL'].apply(lambda x: len(tldextract.extract(x).suffix))\n",
    "\n",
    "#6\n",
    "df['count-'] = df['URL'].apply(lambda x: x.count('-'))\n",
    "df['count@'] = df['URL'].apply(lambda x: x.count('@'))\n",
    "df['count?'] = df['URL'].apply(lambda x: x.count('?'))\n",
    "df['count%'] = df['URL'].apply(lambda x: x.count('%'))\n",
    "df['count.'] = df['URL'].apply(lambda x: x.count('.'))\n",
    "df['count='] = df['URL'].apply(lambda x: x.count('='))\n",
    "df['count-http'] = df['URL'].apply(lambda x: x.count('http'))\n",
    "df['count-https'] = df['URL'].apply(lambda x: x.count('https'))\n",
    "df['count-www'] = df['URL'].apply(lambda x: x.count('www'))\n",
    "\n",
    "\n",
    "\n",
    "import re\n",
    "\n",
    "\n",
    "df['hostname_digits'] = df['URL'].apply(lambda x: sum(c.isdigit() for c in urlparse(x).netloc))\n",
    "\n",
    "\n",
    "df['hostname_is_ip'] = df['URL'].apply(lambda x: 1 if re.match(r\"^\\d{1,3}\\.\\d{1,3}\\.\\d{1,3}\\.\\d{1,3}$\", urlparse(x).netloc) else 0)\n",
    "\n",
    "sensitive_words = ['secure', 'login', 'signin', 'bank', 'account', 'update', 'verify', 'password']\n",
    "df['sensitive_word_count'] = df['URL'].apply(lambda x: sum(x.lower().count(word) for word in sensitive_words))\n",
    "\n",
    "df['subdomain_count'] = df['URL'].apply(lambda x: len(tldextract.extract(x).subdomain.split('.')) if tldextract.extract(x).subdomain else 0)\n",
    "\n",
    "shortening_services = ['bit.ly', 't.co', 'tinyurl.com', 'goo.gl', 'is.gd', 'cli.gs', 'tr.im']\n",
    "df['uses_shortener'] = df['URL'].apply(lambda x: 1 if urlparse(x).netloc in shortening_services else 0)"
   ]
  },
  {
   "cell_type": "code",
   "execution_count": 55,
   "id": "74d83b07-915f-473d-88fb-43f9f686db30",
   "metadata": {},
   "outputs": [
    {
     "name": "stdout",
     "output_type": "stream",
     "text": [
      "Training a Random Forest model... (This may take a moment)\n",
      "Random Forest training complete\n"
     ]
    }
   ],
   "source": [
    "#actual machine learning\n",
    "\n",
    "from sklearn.ensemble import RandomForestClassifier\n",
    "\n",
    "\n",
    "print(\"Training a Random Forest model... (This may take a moment)\")\n",
    "rf_model = RandomForestClassifier(n_estimators=100, random_state=42, n_jobs=-1)\n",
    "\n",
    "rf_model.fit(X_train, y_train)\n",
    "\n",
    "print(\"Random Forest training complete\")"
   ]
  },
  {
   "cell_type": "code",
   "execution_count": 62,
   "id": "2ac94043-4fdf-470c-9db3-da63d26bf03b",
   "metadata": {},
   "outputs": [
    {
     "name": "stdout",
     "output_type": "stream",
     "text": [
      "Making predictions on the test set...\n",
      "\n",
      "Model Accuracy: 77.31%\n",
      "\n",
      "Classification Report:\n",
      "              precision    recall  f1-score   support\n",
      "\n",
      "  Legitimate       0.82      0.26      0.39     31200\n",
      "    Phishing       0.77      0.98      0.86     78670\n",
      "\n",
      "    accuracy                           0.77    109870\n",
      "   macro avg       0.79      0.62      0.63    109870\n",
      "weighted avg       0.78      0.77      0.73    109870\n",
      "\n",
      "\n",
      "Confusion Matrix:\n",
      "[[ 8058 23142]\n",
      " [ 1787 76883]]\n"
     ]
    }
   ],
   "source": [
    "from sklearn.metrics import accuracy_score, confusion_matrix, classification_report\n",
    "\n",
    "#predictions\n",
    "print(\"Making predictions on the test set...\")\n",
    "predictions = model.predict(X_test)\n",
    "\n",
    "#accuracy\n",
    "accuracy = accuracy_score(y_test, predictions)\n",
    "print(f\"\\nModel Accuracy: {accuracy * 100:.2f}%\")\n",
    "\n",
    "\n",
    "# Precision, recall and F1-Score\n",
    "print(\"\\nClassification Report:\")\n",
    "print(classification_report(y_test, predictions, target_names=['Legitimate', 'Phishing']))\n",
    "\n",
    "#Confusion Matrix\n",
    "print(\"\\nConfusion Matrix:\")\n",
    "print(confusion_matrix(y_test, predictions))"
   ]
  },
  {
   "cell_type": "code",
   "execution_count": 65,
   "id": "0dd07e93-4f6b-45e8-8081-70f152fd3128",
   "metadata": {},
   "outputs": [
    {
     "name": "stdout",
     "output_type": "stream",
     "text": [
      "Generating Confusion Matrix for the Random Forest model...\n",
      "Saved confusion_matrix_rf.png\n",
      "\n",
      "Generating ROC Curve for the Random Forest model...\n",
      "Saved roc_curve_rf.png\n"
     ]
    },
    {
     "data": {
      "text/plain": [
       "<Figure size 800x600 with 0 Axes>"
      ]
     },
     "metadata": {},
     "output_type": "display_data"
    },
    {
     "data": {
      "image/png": "[encoded data removed]",
      "text/plain": [
       "<Figure size 640x480 with 1 Axes>"
      ]
     },
     "metadata": {},
     "output_type": "display_data"
    }
   ],
   "source": [
    "import matplotlib.pyplot as plt\n",
    "import seaborn as sns\n",
    "from sklearn.metrics import confusion_matrix, ConfusionMatrixDisplay, RocCurveDisplay\n",
    "\n",
    "predictions = rf_model.predict(X_test)\n",
    "\n",
    "\n",
    "print(\"Generating Confusion Matrix for the Random Forest model...\")\n",
    "cm = confusion_matrix(y_test, predictions)\n",
    "\n",
    "plt.figure(figsize=(8, 6))\n",
    "sns.heatmap(cm, annot=True, fmt='d', cmap='Blues', \n",
    "            xticklabels=['Legitimate', 'Phishing'], \n",
    "            yticklabels=['Legitimate', 'Phishing'])\n",
    "plt.title('Confusion Matrix (Random Forest)')\n",
    "plt.ylabel('Actual Label')\n",
    "plt.xlabel('Predicted Label')\n",
    "plt.savefig('confusion_matrix_rf.png')\n",
    "print(\"Saved confusion_matrix_rf.png\")\n",
    "plt.clf()\n",
    "\n",
    "\n",
    "print(\"\\nGenerating ROC Curve for the Random Forest model...\")\n",
    "\n",
    "# Use rf_model here instead of model\n",
    "RocCurveDisplay.from_estimator(rf_model, X_test, y_test) \n",
    "plt.title('ROC Curve (Random Forest)')\n",
    "plt.plot([0, 1], [0, 1], 'r--')\n",
    "plt.savefig('roc_curve_rf.png')\n",
    "print(\"Saved roc_curve_rf.png\")"
   ]
  },
  {
   "cell_type": "code",
   "execution_count": 78,
   "id": "4e5c2144-fe82-47d1-be2a-44401eb18971",
   "metadata": {},
   "outputs": [
    {
     "name": "stdout",
     "output_type": "stream",
     "text": [
      "--- Running Final Model Tests with Threshold = 35% ---\n",
      "URL:        https://www.google.com\n",
      "Prediction: Legitimate (Confidence of Phishing: 27.00%)\n",
      "\n",
      "URL:        https://www.youtube.com/watch?v=dQw4w9WgXcQ\n",
      "Prediction: Legitimate (Confidence of Phishing: 12.00%)\n",
      "\n",
      "URL:        http://secure-login-apple-support.com-update.info/\n",
      "Prediction: Phishing (Confidence of Phishing: 35.75%)\n",
      "\n",
      "URL:        https://amazon.co.uk.security-update.net/verify/\n",
      "Prediction: Legitimate (Confidence of Phishing: 9.00%)\n",
      "\n",
      "URL:        tinyurl.com/bswqloj\n",
      "Prediction: Legitimate (Confidence of Phishing: 32.08%)\n",
      "\n",
      "URL:        http://192.168.1.1/login.html\n",
      "Prediction: Legitimate (Confidence of Phishing: 6.00%)\n",
      "\n"
     ]
    }
   ],
   "source": [
    "import pandas as pd\n",
    "import re\n",
    "from urllib.parse import urlparse\n",
    "import tldextract\n",
    "\n",
    "# --- 1. Final Prediction Function with Adjustable Threshold ---\n",
    "def predict_url_with_threshold(url, model, feature_columns, threshold=0.5):\n",
    "    \"\"\"\n",
    "    Takes a URL, processes it, and returns the prediction and confidence score\n",
    "    using an adjustable threshold.\n",
    "    \"\"\"\n",
    "    # Create a DataFrame for the single URL to be processed\n",
    "    test_df = pd.DataFrame([url], columns=['URL'])\n",
    "    \n",
    "    # Apply all features using the reusable engineering function\n",
    "    # NOTE: This assumes you have the 'engineer_features' and 'get_fd_length' functions defined in your notebook\n",
    "    processed_test_df = engineer_features(test_df)\n",
    "    \n",
    "    # Ensure the columns are in the same order as the training data\n",
    "    features = processed_test_df[feature_columns]\n",
    "    \n",
    "    # Get the raw probabilities: [P(Legitimate), P(Phishing)]\n",
    "    probabilities = model.predict_proba(features)\n",
    "    \n",
    "    # The probability of being phishing is the second value\n",
    "    phishing_prob = probabilities[0][1] \n",
    "    \n",
    "    # Determine the final label based on the adjustable threshold\n",
    "    prediction = \"Phishing\" if phishing_prob >= threshold else \"Legitimate\"\n",
    "    \n",
    "    return prediction, phishing_prob\n",
    "\n",
    "# --- 2. Test Suite with a Lower Threshold ---\n",
    "urls_to_test = [\n",
    "    \"https://www.google.com\",                                # Benign\n",
    "    \"https://www.youtube.com/watch?v=dQw4w9WgXcQ\",           # Benign\n",
    "    \"http://secure-login-apple-support.com-update.info/\",   # Malicious\n",
    "    \"https://amazon.co.uk.security-update.net/verify/\",     # Malicious\n",
    "    \"tinyurl.com/bswqloj\",                                  # Shortened URL\n",
    "    \"http://192.168.1.1/login.html\"                         # IP Address URL\n",
    "]\n",
    "\n",
    "# Get the list of feature columns from your final training set\n",
    "feature_columns = X.columns \n",
    "\n",
    "# Set a custom threshold\n",
    "custom_threshold = 0.35 \n",
    "\n",
    "print(f\"--- Running Final Model Tests with Threshold = {custom_threshold:.0%} ---\")\n",
    "\n",
    "# Loop through the test URLs and print the detailed results\n",
    "for url in urls_to_test:\n",
    "    label, confidence = predict_url_with_threshold(url, rf_model, feature_columns, threshold=custom_threshold)\n",
    "    print(f\"URL:        {url}\")\n",
    "    print(f\"Prediction: {label} (Confidence of Phishing: {confidence:.2%})\\n\")"
   ]
  },
  {
   "cell_type": "code",
   "execution_count": null,
   "id": "04a0f235-bb3a-4e84-ab67-b76f78f63db0",
   "metadata": {},
   "outputs": [],
   "source": []
  },
  {
   "cell_type": "code",
   "execution_count": null,
   "id": "55c9ac04-40e0-4468-b2d0-7d76676810a8",
   "metadata": {},
   "outputs": [],
   "source": []
  },
  {
   "cell_type": "code",
   "execution_count": null,
   "id": "949c7c4b-e187-4ee3-a839-bd53e8336568",
   "metadata": {},
   "outputs": [],
   "source": []
  },
  {
   "cell_type": "code",
   "execution_count": null,
   "id": "6c6557f0-7614-4bce-a44f-13b4bf046521",
   "metadata": {},
   "outputs": [],
   "source": []
  },
  {
   "cell_type": "code",
   "execution_count": null,
   "id": "faddca83-0c12-442e-9e74-9fb02076d205",
   "metadata": {},
   "outputs": [],
   "source": []
  }
 ],
 "metadata": {
  "kernelspec": {
   "display_name": "Python [conda env:base] *",
   "language": "python",
   "name": "conda-base-py"
  },
  "language_info": {
   "codemirror_mode": {
    "name": "ipython",
    "version": 3
   },
   "file_extension": ".py",
   "mimetype": "text/x-python",
   "name": "python",
   "nbconvert_exporter": "python",
   "pygments_lexer": "ipython3",
   "version": "3.13.5"
  }
 },
 "nbformat": 4,
 "nbformat_minor": 5
}
